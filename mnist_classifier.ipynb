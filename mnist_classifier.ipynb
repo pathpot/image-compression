{
 "cells": [
  {
   "cell_type": "code",
   "execution_count": 176,
   "metadata": {},
   "outputs": [],
   "source": [
    "# import packages\n",
    "import os\n",
    "\n",
    "import numpy as np\n",
    "import matplotlib.pyplot as plt\n",
    "\n",
    "import tensorflow as tf\n",
    "from tensorflow.examples.tutorials.mnist import input_data"
   ]
  },
  {
   "cell_type": "code",
   "execution_count": 179,
   "metadata": {},
   "outputs": [
    {
     "name": "stdout",
     "output_type": "stream",
     "text": [
      "Extracting data/mnist/train-images-idx3-ubyte.gz\n",
      "Extracting data/mnist/train-labels-idx1-ubyte.gz\n",
      "Extracting data/mnist/t10k-images-idx3-ubyte.gz\n",
      "Extracting data/mnist/t10k-labels-idx1-ubyte.gz\n"
     ]
    }
   ],
   "source": [
    "# download data\n",
    "\n",
    "data_dir = \"data/mnist\"\n",
    "checkpoint_path = \"checkpoint/model.ckpt\"\n",
    "\n",
    "mnist = input_data.read_data_sets(data_dir, one_hot=True)\n",
    "\n",
    "input_size = mnist.train.images.shape[1]\n",
    "label_size = mnist.train.labels.shape[1]\n",
    "\n",
    "image_width = int(np.sqrt(input_size))\n",
    "image_height = int(np.sqrt(input_size))"
   ]
  },
  {
   "cell_type": "code",
   "execution_count": 198,
   "metadata": {},
   "outputs": [
    {
     "data": {
      "image/png": "[encoded data removed]",
      "text/plain": [
       "<Figure size 432x288 with 4 Axes>"
      ]
     },
     "metadata": {
      "needs_background": "light"
     },
     "output_type": "display_data"
    }
   ],
   "source": [
    "# visualize data\n",
    "for i in range(4):\n",
    "    plt.subplot(2, 2, i + 1)\n",
    "    \n",
    "    sample_id = np.random.randint(mnist.train.num_examples)\n",
    "    label = np.argmax(mnist.train.labels[sample_id])\n",
    "    plt.title(\"Label: {label}\".format(label=label))\n",
    "    plt.imshow(mnist.train.images[sample_id].reshape(image_width, image_height), cmap='gray')\n",
    "\n",
    "plt.tight_layout()"
   ]
  },
  {
   "cell_type": "code",
   "execution_count": 151,
   "metadata": {},
   "outputs": [],
   "source": [
    "def linear_model(x):\n",
    "    W = tf.get_variable(\"W\", shape=(input_size, label_size))\n",
    "    b = tf.get_variable(\"b\", shape=(label_size))\n",
    "    return tf.matmul(x, W) + b\n",
    "\n",
    "def loss_function(y, logits):\n",
    "    return tf.reduce_mean(tf.nn.softmax_cross_entropy_with_logits(labels=y, logits=logits))\n",
    "\n",
    "def optimizer_function(loss, learning_rate):\n",
    "    return tf.train.GradientDescentOptimizer(learning_rate=learning_rate).minimize(loss)\n",
    "\n",
    "def accuracy_function(y, logits):\n",
    "    correct_pred = tf.equal(tf.argmax(logits, 1), tf.argmax(y, 1))\n",
    "    return tf.reduce_mean(tf.cast(correct_pred, tf.float32))"
   ]
  },
  {
   "cell_type": "code",
   "execution_count": 152,
   "metadata": {},
   "outputs": [],
   "source": [
    "learning_rate = 0.01\n",
    "n_epochs = 100\n",
    "batch_size = 100\n",
    "\n",
    "tf.reset_default_graph()\n",
    "\n",
    "x = tf.placeholder(tf.float32, shape=(None, input_size))\n",
    "y = tf.placeholder(tf.float32, shape=(None, label_size))\n",
    "\n",
    "# define model\n",
    "logits = linear_model(x)\n",
    "y_pred = tf.nn.softmax(logits)\n",
    "\n",
    "# define cost function\n",
    "loss = loss_function(y, logits)\n",
    "\n",
    "# define optimizer\n",
    "optimizer = optimizer_function(loss, learning_rate)\n",
    "\n",
    "# define initializer\n",
    "init = tf.global_variables_initializer()\n",
    "\n",
    "# define accuracy\n",
    "accuracy = accuracy_function(y, logits)"
   ]
  },
  {
   "cell_type": "code",
   "execution_count": 181,
   "metadata": {},
   "outputs": [
    {
     "name": "stdout",
     "output_type": "stream",
     "text": [
      "[Epoch 0] loss = 0.8540840148925781, accuracy = 0.800000011920929\n",
      "[Epoch 1] loss = 0.5128029584884644, accuracy = 0.8999999761581421\n",
      "[Epoch 2] loss = 0.5539636015892029, accuracy = 0.8399999737739563\n",
      "[Epoch 3] loss = 0.5153911709785461, accuracy = 0.8399999737739563\n",
      "[Epoch 4] loss = 0.4609004557132721, accuracy = 0.8700000047683716\n",
      "[Epoch 5] loss = 0.4128696322441101, accuracy = 0.8999999761581421\n",
      "[Epoch 6] loss = 0.3559877872467041, accuracy = 0.8999999761581421\n",
      "[Epoch 7] loss = 0.39146843552589417, accuracy = 0.8999999761581421\n",
      "[Epoch 8] loss = 0.32978734374046326, accuracy = 0.8899999856948853\n",
      "[Epoch 9] loss = 0.3675276041030884, accuracy = 0.9100000262260437\n",
      "[Epoch 10] loss = 0.4438638985157013, accuracy = 0.8500000238418579\n",
      "[Epoch 11] loss = 0.4610399007797241, accuracy = 0.8799999952316284\n",
      "[Epoch 12] loss = 0.37342551350593567, accuracy = 0.8700000047683716\n",
      "[Epoch 13] loss = 0.31520870327949524, accuracy = 0.9200000166893005\n",
      "[Epoch 14] loss = 0.37180137634277344, accuracy = 0.8799999952316284\n",
      "[Epoch 15] loss = 0.3425542712211609, accuracy = 0.9200000166893005\n",
      "[Epoch 16] loss = 0.355213463306427, accuracy = 0.8999999761581421\n",
      "[Epoch 17] loss = 0.5066778063774109, accuracy = 0.8500000238418579\n",
      "[Epoch 18] loss = 0.2735886871814728, accuracy = 0.949999988079071\n",
      "[Epoch 19] loss = 0.3225450813770294, accuracy = 0.8899999856948853\n",
      "[Epoch 20] loss = 0.24500031769275665, accuracy = 0.949999988079071\n",
      "[Epoch 21] loss = 0.33338692784309387, accuracy = 0.9399999976158142\n",
      "[Epoch 22] loss = 0.32596564292907715, accuracy = 0.9300000071525574\n",
      "[Epoch 23] loss = 0.40463241934776306, accuracy = 0.8700000047683716\n",
      "[Epoch 24] loss = 0.32204926013946533, accuracy = 0.9300000071525574\n",
      "[Epoch 25] loss = 0.44885745644569397, accuracy = 0.9200000166893005\n",
      "[Epoch 26] loss = 0.43582481145858765, accuracy = 0.8500000238418579\n",
      "[Epoch 27] loss = 0.3756614327430725, accuracy = 0.8700000047683716\n",
      "[Epoch 28] loss = 0.29333916306495667, accuracy = 0.9100000262260437\n",
      "[Epoch 29] loss = 0.4216594398021698, accuracy = 0.8999999761581421\n",
      "[Epoch 30] loss = 0.2955792546272278, accuracy = 0.9200000166893005\n",
      "[Epoch 31] loss = 0.3450070917606354, accuracy = 0.8999999761581421\n",
      "[Epoch 32] loss = 0.23391425609588623, accuracy = 0.9399999976158142\n",
      "[Epoch 33] loss = 0.2715814411640167, accuracy = 0.9100000262260437\n",
      "[Epoch 34] loss = 0.33901646733283997, accuracy = 0.9100000262260437\n",
      "[Epoch 35] loss = 0.26354774832725525, accuracy = 0.9200000166893005\n",
      "[Epoch 36] loss = 0.32651379704475403, accuracy = 0.8999999761581421\n",
      "[Epoch 37] loss = 0.27126410603523254, accuracy = 0.9100000262260437\n",
      "[Epoch 38] loss = 0.34121569991111755, accuracy = 0.9100000262260437\n",
      "[Epoch 39] loss = 0.23056022822856903, accuracy = 0.9200000166893005\n",
      "[Epoch 40] loss = 0.27341410517692566, accuracy = 0.9200000166893005\n",
      "[Epoch 41] loss = 0.33551284670829773, accuracy = 0.8999999761581421\n",
      "[Epoch 42] loss = 0.29696694016456604, accuracy = 0.8799999952316284\n",
      "[Epoch 43] loss = 0.2585381269454956, accuracy = 0.9300000071525574\n",
      "[Epoch 44] loss = 0.28889739513397217, accuracy = 0.9100000262260437\n",
      "[Epoch 45] loss = 0.30070626735687256, accuracy = 0.8999999761581421\n",
      "[Epoch 46] loss = 0.47707846760749817, accuracy = 0.8999999761581421\n",
      "[Epoch 47] loss = 0.17884063720703125, accuracy = 0.9300000071525574\n",
      "[Epoch 48] loss = 0.29200053215026855, accuracy = 0.9399999976158142\n",
      "[Epoch 49] loss = 0.3478084206581116, accuracy = 0.9200000166893005\n",
      "[Epoch 50] loss = 0.23616833984851837, accuracy = 0.949999988079071\n",
      "[Epoch 51] loss = 0.3056566119194031, accuracy = 0.9300000071525574\n",
      "[Epoch 52] loss = 0.3477873206138611, accuracy = 0.9300000071525574\n",
      "[Epoch 53] loss = 0.22121380269527435, accuracy = 0.949999988079071\n",
      "[Epoch 54] loss = 0.3361680209636688, accuracy = 0.9100000262260437\n",
      "[Epoch 55] loss = 0.30294865369796753, accuracy = 0.8999999761581421\n",
      "[Epoch 56] loss = 0.2684575021266937, accuracy = 0.9200000166893005\n",
      "[Epoch 57] loss = 0.35481491684913635, accuracy = 0.8899999856948853\n",
      "[Epoch 58] loss = 0.20495258271694183, accuracy = 0.9300000071525574\n",
      "[Epoch 59] loss = 0.21056799590587616, accuracy = 0.9300000071525574\n",
      "[Epoch 60] loss = 0.25216105580329895, accuracy = 0.9300000071525574\n",
      "[Epoch 61] loss = 0.21174640953540802, accuracy = 0.9200000166893005\n",
      "[Epoch 62] loss = 0.40858954191207886, accuracy = 0.8799999952316284\n",
      "[Epoch 63] loss = 0.3118293583393097, accuracy = 0.9399999976158142\n",
      "[Epoch 64] loss = 0.3458963632583618, accuracy = 0.9100000262260437\n",
      "[Epoch 65] loss = 0.21656879782676697, accuracy = 0.949999988079071\n",
      "[Epoch 66] loss = 0.25329703092575073, accuracy = 0.9399999976158142\n",
      "[Epoch 67] loss = 0.2830674350261688, accuracy = 0.9200000166893005\n",
      "[Epoch 68] loss = 0.22334285080432892, accuracy = 0.9399999976158142\n",
      "[Epoch 69] loss = 0.3648673892021179, accuracy = 0.9200000166893005\n",
      "[Epoch 70] loss = 0.18748043477535248, accuracy = 0.9300000071525574\n",
      "[Epoch 71] loss = 0.17390671372413635, accuracy = 0.9300000071525574\n",
      "[Epoch 72] loss = 0.15916091203689575, accuracy = 0.9399999976158142\n",
      "[Epoch 73] loss = 0.2886078953742981, accuracy = 0.8999999761581421\n",
      "[Epoch 74] loss = 0.3586854636669159, accuracy = 0.8999999761581421\n",
      "[Epoch 75] loss = 0.2830221652984619, accuracy = 0.9399999976158142\n",
      "[Epoch 76] loss = 0.2935692071914673, accuracy = 0.9100000262260437\n",
      "[Epoch 77] loss = 0.3264602720737457, accuracy = 0.9399999976158142\n",
      "[Epoch 78] loss = 0.21060693264007568, accuracy = 0.9700000286102295\n",
      "[Epoch 79] loss = 0.22233013808727264, accuracy = 0.9399999976158142\n",
      "[Epoch 80] loss = 0.2674267590045929, accuracy = 0.9300000071525574\n",
      "[Epoch 81] loss = 0.19151301681995392, accuracy = 0.949999988079071\n",
      "[Epoch 82] loss = 0.23391112685203552, accuracy = 0.9100000262260437\n",
      "[Epoch 83] loss = 0.33444905281066895, accuracy = 0.9200000166893005\n",
      "[Epoch 84] loss = 0.2666187882423401, accuracy = 0.949999988079071\n",
      "[Epoch 85] loss = 0.3570338189601898, accuracy = 0.8899999856948853\n",
      "[Epoch 86] loss = 0.3062478303909302, accuracy = 0.9100000262260437\n",
      "[Epoch 87] loss = 0.13163070380687714, accuracy = 0.9900000095367432\n",
      "[Epoch 88] loss = 0.29421374201774597, accuracy = 0.9200000166893005\n",
      "[Epoch 89] loss = 0.23279130458831787, accuracy = 0.949999988079071\n",
      "[Epoch 90] loss = 0.21429625153541565, accuracy = 0.9599999785423279\n",
      "[Epoch 91] loss = 0.392415314912796, accuracy = 0.8799999952316284\n",
      "[Epoch 92] loss = 0.19431762397289276, accuracy = 0.9200000166893005\n",
      "[Epoch 93] loss = 0.16697107255458832, accuracy = 0.9599999785423279\n",
      "[Epoch 94] loss = 0.24237996339797974, accuracy = 0.9399999976158142\n",
      "[Epoch 95] loss = 0.20143157243728638, accuracy = 0.949999988079071\n",
      "[Epoch 96] loss = 0.29134342074394226, accuracy = 0.9100000262260437\n",
      "[Epoch 97] loss = 0.2938298285007477, accuracy = 0.9300000071525574\n",
      "[Epoch 98] loss = 0.351677805185318, accuracy = 0.9200000166893005\n",
      "[Epoch 99] loss = 0.29080331325531006, accuracy = 0.9300000071525574\n"
     ]
    }
   ],
   "source": [
    "# train\n",
    "\n",
    "saver = tf.train.Saver()\n",
    "\n",
    "with tf.Session() as sess:\n",
    "    sess.run(init)\n",
    "    \n",
    "    for e in range(n_epochs):\n",
    "        n_batches = int(mnist.train.num_examples / batch_size)\n",
    "        \n",
    "        for b in range(n_batches):\n",
    "            batch_xs, batch_ys = mnist.train.next_batch(batch_size)\n",
    "            sess.run(optimizer, feed_dict={x:batch_xs, y:batch_ys})\n",
    "            \n",
    "        loss_val, acc_val = sess.run([loss, accuracy], feed_dict={x:batch_xs, y:batch_ys})\n",
    "        print(\"[Epoch {epoch}] loss = {loss}, accuracy = {acc}\".format(epoch=e, loss=loss_val, acc=acc_val))\n",
    "        \n",
    "    saver.save(sess, checkpoint_path)"
   ]
  },
  {
   "cell_type": "code",
   "execution_count": 196,
   "metadata": {},
   "outputs": [
    {
     "name": "stdout",
     "output_type": "stream",
     "text": [
      "INFO:tensorflow:Restoring parameters from checkpoint/model.ckpt\n",
      "INFO:tensorflow:Restoring parameters from checkpoint/model.ckpt\n",
      "INFO:tensorflow:Restoring parameters from checkpoint/model.ckpt\n",
      "INFO:tensorflow:Restoring parameters from checkpoint/model.ckpt\n"
     ]
    },
    {
     "data": {
      "image/png": "[encoded data removed]",
      "text/plain": [
       "<Figure size 432x288 with 4 Axes>"
      ]
     },
     "metadata": {
      "needs_background": "light"
     },
     "output_type": "display_data"
    }
   ],
   "source": [
    "# visualize prediction\n",
    "def predict_image(image):\n",
    "    with tf.Session() as sess:\n",
    "        saver.restore(sess, checkpoint_path)\n",
    "        return np.argmax(sess.run(y_pred, feed_dict = {x: image.reshape(1, -1)}))\n",
    "\n",
    "for i in range(4):\n",
    "    plt.subplot(2, 2, i + 1)\n",
    "    \n",
    "    sample_id = np.random.randint(mnist.test.num_examples)\n",
    "    image_data = mnist.test.images[sample_id]\n",
    "    prediction = predict_image(image_data)\n",
    "    plt.title(\"Predict: {prediction}\".format(prediction=prediction))\n",
    "    plt.imshow(image_data.reshape(image_width, image_height), cmap='gray')\n",
    "\n",
    "plt.tight_layout()"
   ]
  },
  {
   "cell_type": "code",
   "execution_count": null,
   "metadata": {},
   "outputs": [],
   "source": []
  }
 ],
 "metadata": {
  "kernelspec": {
   "display_name": "Python 3",
   "language": "python",
   "name": "python3"
  },
  "language_info": {
   "codemirror_mode": {
    "name": "ipython",
    "version": 3
   },
   "file_extension": ".py",
   "mimetype": "text/x-python",
   "name": "python",
   "nbconvert_exporter": "python",
   "pygments_lexer": "ipython3",
   "version": "3.6.5"
  }
 },
 "nbformat": 4,
 "nbformat_minor": 2
}
