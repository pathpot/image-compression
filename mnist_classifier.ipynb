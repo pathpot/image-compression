{
 "cells": [
  {
   "cell_type": "code",
   "execution_count": 1,
   "metadata": {},
   "outputs": [],
   "source": [
    "# import packages\n",
    "import os\n",
    "\n",
    "import numpy as np\n",
    "import matplotlib.pyplot as plt\n",
    "\n",
    "import tensorflow as tf\n",
    "from tensorflow.examples.tutorials.mnist import input_data"
   ]
  },
  {
   "cell_type": "code",
   "execution_count": 2,
   "metadata": {},
   "outputs": [
    {
     "name": "stdout",
     "output_type": "stream",
     "text": [
      "Extracting data/mnist/train-images-idx3-ubyte.gz\n",
      "Extracting data/mnist/train-labels-idx1-ubyte.gz\n",
      "Extracting data/mnist/t10k-images-idx3-ubyte.gz\n",
      "Extracting data/mnist/t10k-labels-idx1-ubyte.gz\n"
     ]
    }
   ],
   "source": [
    "# download data\n",
    "data_dir = \"data/mnist\"\n",
    "checkpoint_path = \"checkpoint/model.ckpt\"\n",
    "\n",
    "mnist = input_data.read_data_sets(data_dir, one_hot=True)\n",
    "\n",
    "input_size = mnist.train.images.shape[1]\n",
    "label_size = mnist.train.labels.shape[1]\n",
    "\n",
    "image_width = int(np.sqrt(input_size))\n",
    "image_height = int(np.sqrt(input_size))"
   ]
  },
  {
   "cell_type": "code",
   "execution_count": 3,
   "metadata": {},
   "outputs": [
    {
     "data": {
      "image/png": "[encoded data removed]",
      "text/plain": [
       "<Figure size 432x288 with 4 Axes>"
      ]
     },
     "metadata": {
      "needs_background": "light"
     },
     "output_type": "display_data"
    }
   ],
   "source": [
    "# visualize data\n",
    "for i in range(4):\n",
    "    plt.subplot(2, 2, i + 1)\n",
    "    \n",
    "    sample_id = np.random.randint(mnist.train.num_examples)\n",
    "    label = np.argmax(mnist.train.labels[sample_id])\n",
    "    plt.title(\"Label: {label}\".format(label=label))\n",
    "    plt.imshow(mnist.train.images[sample_id].reshape(image_width, image_height), cmap='gray')\n",
    "\n",
    "plt.tight_layout()"
   ]
  },
  {
   "cell_type": "code",
   "execution_count": 4,
   "metadata": {},
   "outputs": [],
   "source": [
    "def linear_model(x):\n",
    "    W = tf.get_variable(\"W\", shape=(input_size, label_size))\n",
    "    b = tf.get_variable(\"b\", shape=(label_size))\n",
    "    return tf.matmul(x, W) + b\n",
    "\n",
    "def fcn_model(x, num_hiddens):\n",
    "    hidden = tf.contrib.layers.fully_connected(x, num_hiddens, activation_fn=tf.nn.relu)\n",
    "    output = tf.contrib.layers.fully_connected(x, label_size, activation_fn=None)\n",
    "    return output\n",
    "\n",
    "def cnn_model(x):\n",
    "    net = tf.reshape(x, (-1, image_width, image_height, 1))\n",
    "    net = tf.contrib.layers.conv2d(net, 64, kernel_size=(3, 3), padding='same', activation_fn=tf.nn.relu)\n",
    "    net = tf.contrib.layers.max_pool2d(net, kernel_size=(2, 2), stride=(2, 2), padding='same')\n",
    "    net = tf.contrib.layers.flatten(net)\n",
    "    return fcn_model(net, 32)\n",
    "    \n",
    "    \n",
    "def loss_function(y, logits):\n",
    "    return tf.reduce_mean(tf.nn.softmax_cross_entropy_with_logits(labels=y, logits=logits))\n",
    "\n",
    "def optimizer_function(loss, learning_rate):\n",
    "    return tf.train.GradientDescentOptimizer(learning_rate=learning_rate).minimize(loss)\n",
    "\n",
    "def accuracy_function(y, logits):\n",
    "    correct_pred = tf.equal(tf.argmax(logits, 1), tf.argmax(y, 1))\n",
    "    return tf.reduce_mean(tf.cast(correct_pred, tf.float32))"
   ]
  },
  {
   "cell_type": "code",
   "execution_count": 5,
   "metadata": {},
   "outputs": [],
   "source": [
    "learning_rate = 0.01\n",
    "n_epochs = 100\n",
    "batch_size = 100\n",
    "\n",
    "tf.reset_default_graph()\n",
    "\n",
    "x = tf.placeholder(tf.float32, shape=(None, input_size))\n",
    "y = tf.placeholder(tf.float32, shape=(None, label_size))\n",
    "\n",
    "# define model\n",
    "logits = fcn_model(x, 512)\n",
    "y_pred = tf.nn.softmax(logits)\n",
    "\n",
    "# define cost function\n",
    "loss = loss_function(y, logits)\n",
    "\n",
    "# define optimizer\n",
    "optimizer = optimizer_function(loss, learning_rate)\n",
    "\n",
    "# define initializer\n",
    "init = tf.global_variables_initializer()\n",
    "\n",
    "# define accuracy\n",
    "accuracy = accuracy_function(y, logits)"
   ]
  },
  {
   "cell_type": "code",
   "execution_count": null,
   "metadata": {},
   "outputs": [
    {
     "name": "stdout",
     "output_type": "stream",
     "text": [
      "[Epoch 0] loss = 0.7586693167686462, accuracy = 0.8439000248908997\n",
      "[Epoch 1] loss = 0.5721814632415771, accuracy = 0.8691999912261963\n",
      "[Epoch 2] loss = 0.49797382950782776, accuracy = 0.8805999755859375\n",
      "[Epoch 3] loss = 0.45692524313926697, accuracy = 0.8859999775886536\n",
      "[Epoch 4] loss = 0.4303976595401764, accuracy = 0.8919000029563904\n",
      "[Epoch 5] loss = 0.4104682207107544, accuracy = 0.8953999876976013\n",
      "[Epoch 6] loss = 0.3961322605609894, accuracy = 0.8985999822616577\n",
      "[Epoch 7] loss = 0.3844078481197357, accuracy = 0.8992000222206116\n",
      "[Epoch 8] loss = 0.3748844265937805, accuracy = 0.9010000228881836\n",
      "[Epoch 9] loss = 0.3671967387199402, accuracy = 0.902899980545044\n",
      "[Epoch 10] loss = 0.3604971170425415, accuracy = 0.9042999744415283\n",
      "[Epoch 11] loss = 0.35475096106529236, accuracy = 0.9057999849319458\n",
      "[Epoch 12] loss = 0.3495735824108124, accuracy = 0.9059000015258789\n",
      "[Epoch 13] loss = 0.34523171186447144, accuracy = 0.9067000150680542\n",
      "[Epoch 14] loss = 0.34128907322883606, accuracy = 0.9074000120162964\n",
      "[Epoch 15] loss = 0.3378047049045563, accuracy = 0.9082000255584717\n",
      "[Epoch 16] loss = 0.33455443382263184, accuracy = 0.9093999862670898\n",
      "[Epoch 17] loss = 0.331716388463974, accuracy = 0.9099000096321106\n",
      "[Epoch 18] loss = 0.3293989300727844, accuracy = 0.9106000065803528\n",
      "[Epoch 19] loss = 0.32650768756866455, accuracy = 0.9115999937057495\n",
      "[Epoch 20] loss = 0.3239336311817169, accuracy = 0.9120000004768372\n",
      "[Epoch 21] loss = 0.32210487127304077, accuracy = 0.9121000170707703\n",
      "[Epoch 22] loss = 0.3200162351131439, accuracy = 0.913100004196167\n",
      "[Epoch 23] loss = 0.3181203305721283, accuracy = 0.9140999913215637\n",
      "[Epoch 24] loss = 0.3167959451675415, accuracy = 0.9143000245094299\n",
      "[Epoch 25] loss = 0.3150317966938019, accuracy = 0.9140999913215637\n",
      "[Epoch 26] loss = 0.3138529062271118, accuracy = 0.9143000245094299\n",
      "[Epoch 27] loss = 0.3120346665382385, accuracy = 0.9146999716758728\n",
      "[Epoch 28] loss = 0.31081438064575195, accuracy = 0.9158999919891357\n",
      "[Epoch 29] loss = 0.30974844098091125, accuracy = 0.9150999784469604\n",
      "[Epoch 30] loss = 0.3084825575351715, accuracy = 0.916100025177002\n",
      "[Epoch 31] loss = 0.3070194125175476, accuracy = 0.9164000153541565\n",
      "[Epoch 32] loss = 0.30631640553474426, accuracy = 0.916100025177002\n",
      "[Epoch 33] loss = 0.30500003695487976, accuracy = 0.9162999987602234\n",
      "[Epoch 34] loss = 0.30411821603775024, accuracy = 0.9174000024795532\n",
      "[Epoch 35] loss = 0.3031099736690521, accuracy = 0.9164000153541565\n",
      "[Epoch 36] loss = 0.30254095792770386, accuracy = 0.9164999723434448\n",
      "[Epoch 37] loss = 0.30123868584632874, accuracy = 0.9171000123023987\n",
      "[Epoch 38] loss = 0.30079808831214905, accuracy = 0.9172999858856201\n",
      "[Epoch 39] loss = 0.2996765077114105, accuracy = 0.9172999858856201\n",
      "[Epoch 40] loss = 0.29906630516052246, accuracy = 0.9182000160217285\n",
      "[Epoch 41] loss = 0.29859042167663574, accuracy = 0.9172999858856201\n",
      "[Epoch 42] loss = 0.2975846230983734, accuracy = 0.9182999730110168\n",
      "[Epoch 43] loss = 0.29703623056411743, accuracy = 0.9190999865531921\n",
      "[Epoch 44] loss = 0.296449214220047, accuracy = 0.9189000129699707\n",
      "[Epoch 45] loss = 0.29583740234375, accuracy = 0.9180999994277954\n",
      "[Epoch 46] loss = 0.2951911389827728, accuracy = 0.9180999994277954\n",
      "[Epoch 47] loss = 0.29463905096054077, accuracy = 0.9187999963760376\n",
      "[Epoch 48] loss = 0.29404616355895996, accuracy = 0.9187999963760376\n",
      "[Epoch 49] loss = 0.29339390993118286, accuracy = 0.9186000227928162\n",
      "[Epoch 50] loss = 0.29293292760849, accuracy = 0.9193000197410583\n",
      "[Epoch 51] loss = 0.29250049591064453, accuracy = 0.9189000129699707\n",
      "[Epoch 52] loss = 0.2917763292789459, accuracy = 0.9189000129699707\n",
      "[Epoch 53] loss = 0.2915221154689789, accuracy = 0.9192000031471252\n",
      "[Epoch 54] loss = 0.2909839451313019, accuracy = 0.919700026512146\n",
      "[Epoch 55] loss = 0.2903732359409332, accuracy = 0.9200999736785889\n",
      "[Epoch 56] loss = 0.2901851236820221, accuracy = 0.919700026512146\n",
      "[Epoch 57] loss = 0.2896009385585785, accuracy = 0.9192000031471252\n",
      "[Epoch 58] loss = 0.2892751097679138, accuracy = 0.920199990272522\n",
      "[Epoch 59] loss = 0.28896355628967285, accuracy = 0.9197999835014343\n",
      "[Epoch 60] loss = 0.288408488035202, accuracy = 0.9199000000953674\n",
      "[Epoch 61] loss = 0.28844940662384033, accuracy = 0.9197999835014343\n",
      "[Epoch 62] loss = 0.2879852056503296, accuracy = 0.9205999970436096\n",
      "[Epoch 63] loss = 0.28768596053123474, accuracy = 0.9203000068664551\n",
      "[Epoch 64] loss = 0.2869010269641876, accuracy = 0.9200000166893005\n",
      "[Epoch 65] loss = 0.28658056259155273, accuracy = 0.9203000068664551\n",
      "[Epoch 66] loss = 0.2866520583629608, accuracy = 0.9204999804496765\n",
      "[Epoch 67] loss = 0.2860296368598938, accuracy = 0.9203000068664551\n",
      "[Epoch 68] loss = 0.2860186696052551, accuracy = 0.920199990272522\n",
      "[Epoch 69] loss = 0.2854405343532562, accuracy = 0.9200000166893005\n",
      "[Epoch 70] loss = 0.28520897030830383, accuracy = 0.9204999804496765\n",
      "[Epoch 71] loss = 0.2847305238246918, accuracy = 0.9197999835014343\n",
      "[Epoch 72] loss = 0.284559041261673, accuracy = 0.9204000234603882\n",
      "[Epoch 73] loss = 0.2842230200767517, accuracy = 0.9200999736785889\n",
      "[Epoch 74] loss = 0.28444287180900574, accuracy = 0.9199000000953674\n",
      "[Epoch 75] loss = 0.2842424511909485, accuracy = 0.920799970626831\n",
      "[Epoch 76] loss = 0.28335684537887573, accuracy = 0.9208999872207642\n",
      "[Epoch 77] loss = 0.2833300530910492, accuracy = 0.9205999970436096\n",
      "[Epoch 78] loss = 0.2831520438194275, accuracy = 0.9205999970436096\n",
      "[Epoch 79] loss = 0.2827209532260895, accuracy = 0.9210000038146973\n",
      "[Epoch 80] loss = 0.28247568011283875, accuracy = 0.9211000204086304\n",
      "[Epoch 81] loss = 0.2822359502315521, accuracy = 0.9212999939918518\n",
      "[Epoch 82] loss = 0.28216978907585144, accuracy = 0.920799970626831\n",
      "[Epoch 83] loss = 0.281816691160202, accuracy = 0.9210000038146973\n",
      "[Epoch 84] loss = 0.2816137373447418, accuracy = 0.9212999939918518\n",
      "[Epoch 85] loss = 0.2815648317337036, accuracy = 0.9211000204086304\n",
      "[Epoch 86] loss = 0.2814723551273346, accuracy = 0.9210000038146973\n",
      "[Epoch 87] loss = 0.2811373174190521, accuracy = 0.9214000105857849\n"
     ]
    }
   ],
   "source": [
    "# train\n",
    "saver = tf.train.Saver()\n",
    "\n",
    "with tf.Session() as sess:\n",
    "    sess.run(init)\n",
    "    \n",
    "    for e in range(n_epochs):\n",
    "        n_batches = int(mnist.train.num_examples / batch_size)\n",
    "        \n",
    "        for b in range(n_batches):\n",
    "            batch_xs, batch_ys = mnist.train.next_batch(batch_size)\n",
    "            sess.run(optimizer, feed_dict={x:batch_xs, y:batch_ys})\n",
    "            \n",
    "        loss_val, acc_val = sess.run([loss, accuracy], feed_dict={x:mnist.test.images, y:mnist.test.labels})\n",
    "        print(\"[Epoch {epoch}] loss = {loss}, accuracy = {acc}\".format(epoch=e, loss=loss_val, acc=acc_val))\n",
    "        \n",
    "    saver.save(sess, checkpoint_path)"
   ]
  },
  {
   "cell_type": "code",
   "execution_count": null,
   "metadata": {},
   "outputs": [],
   "source": [
    "# visualize prediction\n",
    "def predict_image(image):\n",
    "    with tf.Session() as sess:\n",
    "        saver.restore(sess, checkpoint_path)\n",
    "        return np.argmax(sess.run(y_pred, feed_dict = {x: image.reshape(1, -1)}))\n",
    "\n",
    "for i in range(4):\n",
    "    plt.subplot(2, 2, i + 1)\n",
    "    \n",
    "    sample_id = np.random.randint(mnist.test.num_examples)\n",
    "    image_data = mnist.test.images[sample_id]\n",
    "    prediction = predict_image(image_data)\n",
    "    plt.title(\"Predict: {prediction}\".format(prediction=prediction))\n",
    "    plt.imshow(image_data.reshape(image_width, image_height), cmap='gray')\n",
    "\n",
    "plt.tight_layout()"
   ]
  },
  {
   "cell_type": "code",
   "execution_count": null,
   "metadata": {},
   "outputs": [],
   "source": []
  }
 ],
 "metadata": {
  "kernelspec": {
   "display_name": "Python 3",
   "language": "python",
   "name": "python3"
  },
  "language_info": {
   "codemirror_mode": {
    "name": "ipython",
    "version": 3
   },
   "file_extension": ".py",
   "mimetype": "text/x-python",
   "name": "python",
   "nbconvert_exporter": "python",
   "pygments_lexer": "ipython3",
   "version": "3.6.5"
  }
 },
 "nbformat": 4,
 "nbformat_minor": 2
}
